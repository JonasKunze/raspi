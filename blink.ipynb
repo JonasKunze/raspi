{
 "metadata": {
  "name": "",
  "signature": "sha256:48985595d1d55431ef6cd94bdc04a36b369f7fca06275a2c1b62bfc843a20d43"
 },
 "nbformat": 3,
 "nbformat_minor": 0,
 "worksheets": [
  {
   "cells": [
    {
     "cell_type": "code",
     "collapsed": false,
     "input": [
      "import RPi.GPIO as GPIO\n",
      "import time\n",
      "\n",
      "LED=3\n",
      "PIR=4\n",
      "def init():\n",
      "    # to use Raspberry Pi board pin numbers\n",
      "    GPIO.setmode(GPIO.BCM)\n",
      "    # set up GPIO output channel\n",
      "    GPIO.setup(LED, GPIO.OUT)\n",
      "    switch(LED, False)\n",
      "def cleanup():\n",
      "    GPIO.cleanup() \n",
      "\n",
      "def switch(pin, value):\n",
      "        if value:         \n",
      "            GPIO.output(pin,GPIO.LOW)\n",
      "        else:\n",
      "            GPIO.output(pin,GPIO.HIGH)      \n",
      "        return\n",
      "\n",
      "def run():  \n",
      "    for i in range(0,50):\n",
      "        switch(3, i%2==0)\n",
      "        time.sleep(1)\n"
     ],
     "language": "python",
     "metadata": {},
     "outputs": [],
     "prompt_number": 2
    },
    {
     "cell_type": "code",
     "collapsed": false,
     "input": [
      "def on_motion_started():\n",
      "    switch(LED, True)\n",
      "    \n",
      "def on_motion_ended():\n",
      "    switch(LED, False)"
     ],
     "language": "python",
     "metadata": {},
     "outputs": [],
     "prompt_number": 2
    },
    {
     "cell_type": "code",
     "collapsed": false,
     "input": [
      "from gpiozero import MotionSensor\n",
      "\n",
      "def run():  \n",
      "    pir = MotionSensor(PIR)\n",
      "    while True:\n",
      "        pir.wait_for_motion()\n",
      "        print(\"Motion detected!\")\n",
      "        on_motion_started()\n",
      "        pir.wait_for_no_motion()\n",
      "        print(\"Motion done!\")  \n",
      "        on_motion_ended()\n",
      "#         if pir.motion_detected:\n",
      "#             print(\"Motion: \"+pir.motion_detected)\n",
      "        \n",
      "#         switch(LED, pir.motion_detected)         \n",
      "#         time.sleep(1)"
     ],
     "language": "python",
     "metadata": {},
     "outputs": [],
     "prompt_number": 3
    },
    {
     "cell_type": "code",
     "collapsed": false,
     "input": [
      "init()\n",
      "\n",
      "switch(LED, False)\n",
      "run()\n",
      "cleanup()"
     ],
     "language": "python",
     "metadata": {},
     "outputs": []
    },
    {
     "cell_type": "code",
     "collapsed": false,
     "input": [
      "init()\n",
      "switch(LED, False)"
     ],
     "language": "python",
     "metadata": {},
     "outputs": [],
     "prompt_number": 6
    }
   ],
   "metadata": {}
  }
 ]
}