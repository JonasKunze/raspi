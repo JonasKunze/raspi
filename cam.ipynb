{
 "metadata": {
  "name": "",
  "signature": "sha256:7ab2370f78c5a2c15dac2d12d64dce7dbea6a9d7a964c444874e373ce8c793ff"
 },
 "nbformat": 3,
 "nbformat_minor": 0,
 "worksheets": [
  {
   "cells": [
    {
     "cell_type": "code",
     "collapsed": false,
     "input": [
      "from gphoto import GPhoto\n",
      "from gphoto import Identify\n",
      "from gphoto import NetworkInfo\n",
      "import subprocess\n",
      "import math"
     ],
     "language": "python",
     "metadata": {},
     "outputs": [],
     "prompt_number": 26
    },
    {
     "cell_type": "code",
     "collapsed": false,
     "input": [
      "camera = GPhoto(subprocess)\n",
      "idy = Identify(subprocess)"
     ],
     "language": "python",
     "metadata": {},
     "outputs": [],
     "prompt_number": 2
    },
    {
     "cell_type": "code",
     "collapsed": false,
     "input": [
      "CONFIGS = [(\"1/1600\", 100),\n",
      "           (\"1/1000\", 100),\n",
      "           (\"1/800\", 100),\n",
      "           (\"1/500\", 100),\n",
      "           (\"1/320\", 100),\n",
      "           (\"1/250\", 100),\n",
      "           (\"1/200\", 100),\n",
      "           (\"1/160\", 100),\n",
      "           (\"1/100\", 100),\n",
      "           (\"1/80\", 100),\n",
      "           (\"1/60\", 100),\n",
      "           (\"1/50\", 100),\n",
      "           (\"1/50\", 200),\n",
      "           (\"1/40\", 200),\n",
      "           (\"1/40\", 200),\n",
      "           (\"1/25\", 200),\n",
      "           (\"1/20\", 200),\n",
      "           (\"1/15\", 200),\n",
      "           (\"1/20\", 400),\n",
      "           (\"1/15\", 400),\n",
      "           (\"1/13\", 400),\n",
      "           (\"1/10\", 400),\n",
      "           (\"1/10\", 800)]"
     ],
     "language": "python",
     "metadata": {},
     "outputs": [],
     "prompt_number": 3
    },
    {
     "cell_type": "code",
     "collapsed": false,
     "input": [
      "current_config = 10\n",
      "MIN_BRIGHTNESS = 50000\n",
      "MAX_BRIGHTNESS = 55000\n",
      "camera.set_shutter_speed(secs=CONFIGS[current_config][0])\n",
      "camera.set_iso(iso=str(CONFIGS[current_config][1]))"
     ],
     "language": "python",
     "metadata": {},
     "outputs": [],
     "prompt_number": 22
    },
    {
     "cell_type": "code",
     "collapsed": false,
     "input": [
      "def change_setting(current_config, delta):\n",
      "    current_config = current_config + delta\n",
      "    camera.set_shutter_speed(secs=CONFIGS[current_config][0])\n",
      "    camera.set_iso(iso=str(CONFIGS[current_config][1]))  \n",
      "    return current_config\n",
      "\n",
      "def check_brightness(filename, current_config):\n",
      "    brightness = float(idy.mean_brightness(filename))\n",
      "    delta = 0\n",
      "    if brightness < MIN_BRIGHTNESS and current_config < len(CONFIGS) - 1:\n",
      "        delta = 1\n",
      "        print(\"too dark\")\n",
      "    elif brightness > MAX_BRIGHTNESS and current_config > 0:\n",
      "        delta = -1\n",
      "        print(\"too bright\")\n",
      "  \n",
      "    print(brightness)\n",
      "    print(delta)\n",
      "    \n",
      "    return delta\n",
      "\n",
      "def take_pic(current_config):\n",
      "    filename = camera.capture_image_and_download()\n",
      "    config_delta = check_brightness(filename, current_config)\n",
      "    if config_delta != 0:\n",
      "        current_config = change_setting(current_config, config_delta)\n",
      "    return current_config"
     ],
     "language": "python",
     "metadata": {},
     "outputs": [],
     "prompt_number": 23
    },
    {
     "cell_type": "code",
     "collapsed": false,
     "input": [
      "current_config = take_pic(current_config)"
     ],
     "language": "python",
     "metadata": {},
     "outputs": [
      {
       "output_type": "stream",
       "stream": "stdout",
       "text": [
        "too dark\n",
        "8804.72\n",
        "1\n"
       ]
      }
     ],
     "prompt_number": 24
    },
    {
     "cell_type": "code",
     "collapsed": false,
     "input": [
      "print(filename)\n",
      "print(current_config)"
     ],
     "language": "python",
     "metadata": {},
     "outputs": [
      {
       "output_type": "stream",
       "stream": "stdout",
       "text": [
        "capt0000.jpg\n",
        "22\n"
       ]
      }
     ],
     "prompt_number": 17
    },
    {
     "cell_type": "code",
     "collapsed": false,
     "input": [
      "current_config=21\n",
      "camera.set_shutter_speed(secs=CONFIGS[current_config][0])\n",
      "camera.set_iso(iso=str(CONFIGS[current_config][1]))"
     ],
     "language": "python",
     "metadata": {},
     "outputs": [],
     "prompt_number": 7
    },
    {
     "cell_type": "code",
     "collapsed": false,
     "input": [
      "float(idy.mean_brightness(filename))"
     ],
     "language": "python",
     "metadata": {},
     "outputs": [
      {
       "output_type": "stream",
       "stream": "stdout",
       "text": [
        " -format \"%Q\" capt0000.jpg\n"
       ]
      },
      {
       "metadata": {},
       "output_type": "pyout",
       "prompt_number": 17,
       "text": [
        "91.0"
       ]
      }
     ],
     "prompt_number": 17
    },
    {
     "cell_type": "code",
     "collapsed": false,
     "input": [
      "math.log(20)/math.log(100000)"
     ],
     "language": "python",
     "metadata": {},
     "outputs": [
      {
       "metadata": {},
       "output_type": "pyout",
       "prompt_number": 34,
       "text": [
        "0.26020599913279624"
       ]
      }
     ],
     "prompt_number": 34
    },
    {
     "cell_type": "code",
     "collapsed": false,
     "input": [],
     "language": "python",
     "metadata": {},
     "outputs": []
    }
   ],
   "metadata": {}
  }
 ]
}