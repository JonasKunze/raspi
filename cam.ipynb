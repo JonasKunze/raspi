{
 "metadata": {
  "name": "",
  "signature": "sha256:7283fc9e9a9077777173165c83d815d27cd9763de1d4ff323e5eb0981d1ad6d6"
 },
 "nbformat": 3,
 "nbformat_minor": 0,
 "worksheets": [
  {
   "cells": [
    {
     "cell_type": "code",
     "collapsed": false,
     "input": [
      "from gphoto import GPhoto\n",
      "from gphoto import Identify\n",
      "from gphoto import NetworkInfo\n",
      "import RPi.GPIO as GPIO\n",
      "import subprocess\n",
      "import math\n",
      "import os\n",
      "\n",
      "camera = GPhoto(subprocess)\n",
      "idy = Identify(subprocess)\n",
      "BUTTON = 3\n",
      "SHUTTDOWN_BUTON = 4\n",
      "\n",
      "def init():  \n",
      "    GPIO.setmode(GPIO.BCM)\n",
      "       \n",
      "    GPIO.setup(BUTTON, GPIO.IN, pull_up_down=GPIO.PUD_UP)  \n",
      "    GPIO.setup(SHUTTDOWN_BUTON, GPIO.IN, pull_up_down=GPIO.PUD_UP)  \n",
      "          \n",
      "def cleanup():\n",
      "    print \"Cleaning up GPIO\"\n",
      "    GPIO.cleanup()\n",
      "    \n",
      "CONFIGS = [(\"1/1600\", 100),\n",
      "       (\"1/1000\", 100),\n",
      "       (\"1/800\", 100),\n",
      "       (\"1/500\", 100),\n",
      "       (\"1/320\", 100),\n",
      "       (\"1/250\", 100),\n",
      "       (\"1/200\", 100),\n",
      "       (\"1/160\", 100),\n",
      "       (\"1/100\", 100),\n",
      "       (\"1/80\", 100),\n",
      "       (\"1/60\", 100),\n",
      "       (\"1/50\", 100),\n",
      "       (\"1/50\", 200),\n",
      "       (\"1/40\", 200),\n",
      "       (\"1/40\", 200),\n",
      "       (\"1/25\", 200),\n",
      "       (\"1/20\", 200),\n",
      "       (\"1/15\", 200),\n",
      "       (\"1/20\", 400),\n",
      "       (\"1/15\", 400),\n",
      "       (\"1/13\", 400),\n",
      "       (\"1/10\", 400),\n",
      "       (\"1/10\", 800)]\n",
      "\n",
      "x = 1\n",
      "\n",
      "current_config = 10\n",
      "MIN_BRIGHTNESS = 50000\n",
      "MAX_BRIGHTNESS = 55000\n",
      "camera.set_shutter_speed(secs=CONFIGS[current_config][0])\n",
      "camera.set_iso(iso=str(CONFIGS[current_config][1]))"
     ],
     "language": "python",
     "metadata": {},
     "outputs": [],
     "prompt_number": 1
    },
    {
     "cell_type": "code",
     "collapsed": false,
     "input": [
      "def change_setting(current_config, delta):\n",
      "    current_config = current_config + delta\n",
      "    camera.set_shutter_speed(secs=CONFIGS[current_config][0])\n",
      "    camera.set_iso(iso=str(CONFIGS[current_config][1]))  \n",
      "    return current_config\n",
      "\n",
      "def check_brightness(filename, current_config):\n",
      "    brightness = float(idy.mean_brightness(filename))\n",
      "    delta = 0\n",
      "    if brightness < MIN_BRIGHTNESS and current_config < len(CONFIGS) - 1:\n",
      "        delta = 1\n",
      "        print(\"too dark\")\n",
      "    elif brightness > MAX_BRIGHTNESS and current_config > 0:\n",
      "        delta = -1\n",
      "        print(\"too bright\")\n",
      "  \n",
      "    print(brightness)\n",
      "    print(delta)\n",
      "    \n",
      "    return delta\n",
      "\n",
      "def take_pic(current_config):\n",
      "    filename = camera.capture_image_and_download()\n",
      "    config_delta = check_brightness(filename, current_config)\n",
      "    if config_delta != 0:\n",
      "        current_config = change_setting(current_config, config_delta)\n",
      "    return filename, current_config"
     ],
     "language": "python",
     "metadata": {},
     "outputs": []
    },
    {
     "cell_type": "code",
     "collapsed": false,
     "input": [
      "filename, current_config = take_pic(current_config)"
     ],
     "language": "python",
     "metadata": {},
     "outputs": [
      {
       "output_type": "stream",
       "stream": "stdout",
       "text": [
        "too dark\n",
        "11278.3\n",
        "1\n"
       ]
      }
     ],
     "prompt_number": 17
    },
    {
     "cell_type": "code",
     "collapsed": false,
     "input": [
      "print(filename)\n",
      "print(current_config)"
     ],
     "language": "python",
     "metadata": {},
     "outputs": [
      {
       "output_type": "stream",
       "stream": "stdout",
       "text": [
        "capt0000.jpg\n",
        "20\n"
       ]
      }
     ],
     "prompt_number": 28
    },
    {
     "cell_type": "code",
     "collapsed": false,
     "input": [
      "while True:\n",
      "    filename, current_config = take_pic(current_config)\n",
      "    os.rename(filename, \"pic\"+str(i)+\".jpg\")\n",
      "    i += 1"
     ],
     "language": "python",
     "metadata": {},
     "outputs": [
      {
       "output_type": "stream",
       "stream": "stdout",
       "text": [
        "too dark\n",
        "38596.3\n",
        "1\n",
        "too dark"
       ]
      },
      {
       "output_type": "stream",
       "stream": "stdout",
       "text": [
        "\n",
        "42815.8\n",
        "1\n",
        "53964.0"
       ]
      }
     ]
    },
    {
     "cell_type": "code",
     "collapsed": false,
     "input": [
      "init()\n",
      "try:\n",
      "    def on_buzzer_pushed(channel):  \n",
      "        print(\"Takin pic!\")\n",
      "        filename, current_config = take_pic(current_config)\n",
      "    GPIO.add_event_detect(BUTTON, GPIO.FALLING, callback=on_buzzer_pushed, bouncetime=200)\n",
      "    GPIO.wait_for_edge(SHUTTDOWN_BUTON, GPIO.FALLING)\n",
      "except Exception as e:  \n",
      "    print(\"Exception caught: {0}\".format(e))\n",
      "finally:\n",
      "    cleanup()"
     ],
     "language": "python",
     "metadata": {},
     "outputs": []
    },
    {
     "cell_type": "code",
     "collapsed": false,
     "input": [],
     "language": "python",
     "metadata": {},
     "outputs": []
    }
   ],
   "metadata": {}
  }
 ]
}